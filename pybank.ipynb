{
 "cells": [
  {
   "cell_type": "code",
   "execution_count": 2,
   "metadata": {},
   "outputs": [],
   "source": [
    "import os\n",
    "import csv\n",
    "\n",
    "#run this for files ending in _1 and _2\n",
    "\n",
    "for suffix in range(1,3):\n",
    "    file_name = \"budget_data.csv\" \n",
    "    #print(file_name)\n",
    "\n",
    "    budgetCSV = os.path.join('../Desktop',file_name)\n",
    "\n",
    "    total_revenue = 0.0\n",
    "    total_months = 0\n",
    "    avg_rev_change = 0.0\n",
    "    greatest_increase = 0.0\n",
    "    greatest_decrease = 0.0\n",
    "    current_month_rev = 0.0\n",
    "    last_month_rev = 0.0\n",
    "\n",
    "  \n",
    "\n",
    "    \n",
    "\n",
    "    "
   ]
  },
  {
   "cell_type": "code",
   "execution_count": 8,
   "metadata": {},
   "outputs": [
    {
     "ename": "IndentationError",
     "evalue": "unexpected indent (<ipython-input-8-be0a9e1da81d>, line 6)",
     "output_type": "error",
     "traceback": [
      "\u001b[0;36m  File \u001b[0;32m\"<ipython-input-8-be0a9e1da81d>\"\u001b[0;36m, line \u001b[0;32m6\u001b[0m\n\u001b[0;31m    with open(budgetCSV, 'r') as csvfile:\u001b[0m\n\u001b[0m    ^\u001b[0m\n\u001b[0;31mIndentationError\u001b[0m\u001b[0;31m:\u001b[0m unexpected indent\n"
     ]
    }
   ],
   "source": [
    " #list to keep track of change in revenue\n",
    "change_in_rev = []\n",
    "month_change_in_rev = []\n",
    "\n",
    "    # Read in the CSV file\n",
    "          with open(budgetCSV, 'r') as csvfile:\n",
    "        # Split the data on commas\n",
    "csvreader = csv.reader(csvfile, delimiter=',')\n",
    "\n",
    "        #skip the title row\n",
    "        next(csvreader, None)"
   ]
  },
  {
   "cell_type": "code",
   "execution_count": 9,
   "metadata": {},
   "outputs": [
    {
     "ename": "IndentationError",
     "evalue": "unexpected indent (<ipython-input-9-72304ea35f0c>, line 2)",
     "output_type": "error",
     "traceback": [
      "\u001b[0;36m  File \u001b[0;32m\"<ipython-input-9-72304ea35f0c>\"\u001b[0;36m, line \u001b[0;32m2\u001b[0m\n\u001b[0;31m    for row in csvreader:\u001b[0m\n\u001b[0m    ^\u001b[0m\n\u001b[0;31mIndentationError\u001b[0m\u001b[0;31m:\u001b[0m unexpected indent\n"
     ]
    }
   ],
   "source": [
    "  # Loop through the data\n",
    "        for row in csvreader:\n",
    "\n",
    "            #row[0] is date; row[1] is revenue\n",
    "            total_months = total_months + 1\n",
    "            current_month_rev = float(row[1])\n",
    "            total_revenue = total_revenue + current_month_rev\n",
    "\n",
    "\n",
    "\n",
    "            #compute revenue change and store in list; don't do for first record\n",
    "            if total_months > 1:\n",
    "                delta = current_month_rev - last_month_rev\n",
    "                change_in_rev.append(delta)\n",
    "                month_change_in_rev.append(row[0])\n",
    "                #print(change_in_rev)\n",
    "\n",
    "            last_month_rev = current_month_rev\n",
    "\n"
   ]
  },
  {
   "cell_type": "code",
   "execution_count": null,
   "metadata": {},
   "outputs": [],
   "source": [
    "  #compute the average revenue change by looping through the list\n",
    "        total_change = 0.0\n",
    "        for i in range(len(change_in_rev)):\n",
    "            total_change = total_change + change_in_rev[i]\n",
    "\n",
    "            if change_in_rev[i] > 0 and change_in_rev[i] > greatest_increase:\n",
    "                greatest_increase = change_in_rev[i]\n",
    "                greatest_month_inc = month_change_in_rev[i]\n",
    "            if change_in_rev[i] < 0 and change_in_rev[i] < greatest_decrease:\n",
    "                greatest_decrease = change_in_rev[i]\n",
    "                greatest_month_dec = month_change_in_rev[i]\n",
    "\n",
    "        avg_rev_change = total_change / len(change_in_rev)\n",
    "\n",
    "        print(\"Financial Analysis of \" + file_name)\n",
    "        print(\"---------------------------------------------\")\n",
    "\n",
    "        print(\"Total Months: \" + str(total_months))\n",
    "        print(\"Total Revenue: $\" + str(total_revenue))\n",
    "\n",
    "        print(\"Average Revenue Change: $\" + str(round(avg_rev_change,2)))\n",
    "\n",
    "        print(\"Greatest Increase in Revenue:\" + greatest_month_inc + \" ($\" + str(greatest_increase) + \")\")\n",
    "\n",
    "        print(\"Greatest Decrease in Revenue: \" + greatest_month_dec + \" ($\" + str(greatest_decrease) + \")\\n\\n\")\n",
    "\n",
    "\n"
   ]
  },
  {
   "cell_type": "code",
   "execution_count": 10,
   "metadata": {},
   "outputs": [
    {
     "ename": "IndentationError",
     "evalue": "unexpected indent (<ipython-input-10-05477fba4c51>, line 2)",
     "output_type": "error",
     "traceback": [
      "\u001b[0;36m  File \u001b[0;32m\"<ipython-input-10-05477fba4c51>\"\u001b[0;36m, line \u001b[0;32m2\u001b[0m\n\u001b[0;31m    output_file = os.path.join('../Resources', 'FinAnal_' + str(suffix) + \".txt\")\u001b[0m\n\u001b[0m    ^\u001b[0m\n\u001b[0;31mIndentationError\u001b[0m\u001b[0;31m:\u001b[0m unexpected indent\n"
     ]
    }
   ],
   "source": [
    "#write the output to a text file\n",
    "    output_file = os.path.join('../Resources', 'FinAnal_' + str(suffix) + \".txt\")\n",
    "\n",
    "    with open(output_file, 'w') as textfile:\n",
    "\n",
    "        textfile.write(\"Financial Analysis\\n\")\n",
    "        textfile.write(\"---------------------------------------------\\n\\n\")\n",
    "\n",
    "        textfile.write(\"Total Months: \" + str(total_months)+ \"\\n\")\n",
    "\n",
    "        textfile.write(\"Total Revenue: $\" + str(total_revenue) + \"\\n\")\n",
    "\n",
    "        textfile.write(\"Average Revenue Change: $\" + str(round(avg_rev_change, 2))+ \"\\n\")\n",
    "\n",
    "        textfile.write(\"Greatest Increase in Revenue:\" + greatest_month_inc + \" ($\" + str(greatest_increase) + \")\\n\")\n",
    "\n",
    "        textfile.write(\"Greatest Decrease in Revenue: \" + greatest_month_dec + \" ($\" + str(greatest_decrease) + \")\\n\")\n",
    "\n"
   ]
  },
  {
   "cell_type": "code",
   "execution_count": null,
   "metadata": {},
   "outputs": [],
   "source": []
  }
 ],
 "metadata": {
  "kernelspec": {
   "display_name": "Python 3",
   "language": "python",
   "name": "python3"
  },
  "language_info": {
   "codemirror_mode": {
    "name": "ipython",
    "version": 3
   },
   "file_extension": ".py",
   "mimetype": "text/x-python",
   "name": "python",
   "nbconvert_exporter": "python",
   "pygments_lexer": "ipython3",
   "version": "3.7.3"
  }
 },
 "nbformat": 4,
 "nbformat_minor": 2
}
